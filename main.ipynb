{
  "nbformat": 4,
  "nbformat_minor": 0,
  "metadata": {
    "kernelspec": {
      "display_name": "Python 3",
      "language": "python",
      "name": "python3"
    },
    "language_info": {
      "codemirror_mode": {
        "name": "ipython",
        "version": 3
      },
      "file_extension": ".py",
      "mimetype": "text/x-python",
      "name": "python",
      "nbconvert_exporter": "python",
      "pygments_lexer": "ipython3",
      "version": "3.7.6"
    },
    "colab": {
      "name": "Копия блокнота \"main.ipynb\"",
      "provenance": [],
      "collapsed_sections": [],
      "toc_visible": true
    }
  },
  "cells": [
    {
      "cell_type": "markdown",
      "metadata": {
        "id": "UPlekTgYb3Uv"
      },
      "source": [
        "# Shakespeare-Translate\n"
      ]
    },
    {
      "cell_type": "markdown",
      "metadata": {
        "id": "H0RSjMJtb3U3"
      },
      "source": [
        "### Import Data:\n",
        "The link to the dataset has been provided in the dataset section already. You can find all the Shakespearean novels there.\n",
        "<br>\n",
        "<br>\n",
        "Each novel is represented by two text files:\n",
        "<br>\n",
        "<br>\n",
        "1)The files named \"original\" contain the novels in original Shakespearean format line by line. \n",
        "<br>\n",
        "2)The same novel with name \"modern\" contains the whole novel in modern english format. \n",
        "<br>\n",
        "<br>\n",
        "In this way, the same line in a novel can be extracted in Shakespearean format from the \"original\" file and in modern format from the \"modern\" file.\n",
        "<br>\n",
        "<br>\n"
      ]
    },
    {
      "cell_type": "code",
      "metadata": {
        "id": "Y73HDAWdb3VB"
      },
      "source": [
        "shakespeare = open('hamlet_modern.snt').read()"
      ],
      "execution_count": null,
      "outputs": []
    },
    {
      "cell_type": "markdown",
      "metadata": {
        "id": "bGKWKydTb3Vs"
      },
      "source": [
        "### Import Packages:\n",
        "All package imports go here.\n",
        "<br>\n",
        "<br>\n",
        "The basic required packages have been given in requirements.txt which can be installed using the pip command given in the <strong>usage section</strong>.\n",
        "<br>\n",
        "<br>\n",
        "For example:-"
      ]
    },
    {
      "cell_type": "code",
      "metadata": {
        "id": "ja25mig9b3Vz"
      },
      "source": [
        "import numpy\n",
        "import nltk\n",
        "import string\n",
        "nltk.download (\"punkt\")\n",
        "from nltk import sent_tokenize\n",
        "from nltk.tokenize import word_tokenize, wordpunct_tokenize\n",
        "from string import punctuation\n",
        "\n",
        "#Import the rest of the libraries in a similar fashion.  "
      ],
      "execution_count": null,
      "outputs": []
    },
    {
      "cell_type": "markdown",
      "metadata": {
        "id": "eUH6mFhLb3WM"
      },
      "source": [
        "### Preprocessing the data:\n",
        "<strong>Step 1:</strong><br>\n",
        "<br>\n",
        "Since we will be dealing majorly with alphabets, convert all the text to lowercase. <br>\n"
      ]
    },
    {
      "cell_type": "code",
      "metadata": {
        "id": "oPjVu8gcb3WS"
      },
      "source": [
        "def toLowerCase(corpus):\n",
        "  shakespeare.lower()"
      ],
      "execution_count": 45,
      "outputs": []
    },
    {
      "cell_type": "markdown",
      "metadata": {
        "id": "XamM6upFb3W1"
      },
      "source": [
        "<strong>Step 2:</strong><br>\n",
        "<br>\n",
        "Tokenize a text file into a list of sentences. <br>"
      ]
    },
    {
      "cell_type": "code",
      "metadata": {
        "id": "CJ40WU1lb3W6"
      },
      "source": [
        "def sentence_tokenize(corpus):\n",
        "  sent_tokenize(corpus, 'english')"
      ],
      "execution_count": 46,
      "outputs": []
    },
    {
      "cell_type": "markdown",
      "metadata": {
        "id": "ZDV95T7Gb3XR"
      },
      "source": [
        "<strong>Step 3:</strong><br>\n",
        "<br>\n",
        "Tokenize a sentence into a bag of words. <br>"
      ]
    },
    {
      "cell_type": "code",
      "metadata": {
        "id": "FANwkmO_b3XW"
      },
      "source": [
        "def word_tokenize(sentence):\n",
        "  word_tokenize(sentence)"
      ],
      "execution_count": 48,
      "outputs": []
    },
    {
      "cell_type": "markdown",
      "metadata": {
        "id": "CnHeRju_b3Xw"
      },
      "source": [
        "<strong>Step 4:</strong><br>\n",
        "<br>\n",
        "Convert a sentence into an equivalent list of characters without punctuation(.,?,!). <br>"
      ]
    },
    {
      "cell_type": "code",
      "metadata": {
        "id": "z2Qak8jPb3X0"
      },
      "source": [
        "def listOfAlphabets(sentence):\n",
        "  [word.strip(punctuation) for word in sentence]\n",
        "  sentence = list(filter(None, sentence))  #removing none objects from the list"
      ],
      "execution_count": 49,
      "outputs": []
    },
    {
      "cell_type": "markdown",
      "metadata": {
        "id": "vW-syT8Nb3YE"
      },
      "source": [
        "### Vectorizing data:\n",
        "The text data needs to be converted to vector form before it can be used for training and testing purposes. \n",
        "<br>\n",
        "<br>\n",
        "Using numpy arrays is a great way of vectorising data."
      ]
    },
    {
      "cell_type": "code",
      "metadata": {
        "id": "w92wmfG3b3YH"
      },
      "source": [
        "def vectorize(sentence):\n",
        "    {\n",
        "        #Hint: Convert a sentence into a numpy array. Since the length of each sentence varies, find the length of the longest sentence first(this length becomes the length of the training vectors) and zero pad the sentences smaller in length that the longest.\n",
        "    }"
      ],
      "execution_count": null,
      "outputs": []
    },
    {
      "cell_type": "markdown",
      "metadata": {
        "id": "jgJkl_pcb3Ya"
      },
      "source": [
        "### Creating training and testing data:\n",
        "Split the vectorized data into training and testing sets."
      ]
    },
    {
      "cell_type": "code",
      "metadata": {
        "id": "m6tx4pcZb3Yi"
      },
      "source": [
        "def split(data):\n",
        "    {\n",
        "        #Split the data.\n",
        "    }"
      ],
      "execution_count": null,
      "outputs": []
    },
    {
      "cell_type": "markdown",
      "metadata": {
        "id": "9uX0OPirb3Y2"
      },
      "source": [
        "### Build the model:\n",
        "Now that the data has been cleaned, preprocessed and vectorized, it is ready to be put to use.\n",
        "<br>\n",
        "<br>\n",
        "The next step is to build the model."
      ]
    },
    {
      "cell_type": "code",
      "metadata": {
        "id": "jNXz-4jEb3Y5"
      },
      "source": [
        "def model():\n",
        "    {\n",
        "        #Build the model.\n",
        "    }\n"
      ],
      "execution_count": null,
      "outputs": []
    },
    {
      "cell_type": "markdown",
      "metadata": {
        "id": "F737TE53b3ZK"
      },
      "source": [
        "### Train the model:\n",
        "Train you model or fit the data to your model."
      ]
    },
    {
      "cell_type": "code",
      "metadata": {
        "id": "jwckWCZzb3ZP"
      },
      "source": [
        "def train(model,train_data):\n",
        "    {\n",
        "        #Train the model.\n",
        "    }"
      ],
      "execution_count": null,
      "outputs": []
    },
    {
      "cell_type": "markdown",
      "metadata": {
        "id": "32aQo43Ib3Zg"
      },
      "source": [
        "### Test the model:\n",
        "Test out your trained model and plot results. "
      ]
    },
    {
      "cell_type": "code",
      "metadata": {
        "id": "xc8ghD-Ob3Zm"
      },
      "source": [
        "def test(model,test_data):\n",
        "    {\n",
        "        #Test the model.\n",
        "    }"
      ],
      "execution_count": null,
      "outputs": []
    },
    {
      "cell_type": "markdown",
      "metadata": {
        "id": "MR8mi7acb3Z7"
      },
      "source": [
        "### Improve Accuracy:\n",
        "Find ways to improve the model and increase accuracy."
      ]
    },
    {
      "cell_type": "code",
      "metadata": {
        "id": "aUs-ZwF6b3Z-"
      },
      "source": [
        "def improve(model):\n",
        "    {\n",
        "        #Improve the model.\n",
        "    } "
      ],
      "execution_count": null,
      "outputs": []
    }
  ]
}